{
  "nbformat": 4,
  "nbformat_minor": 0,
  "metadata": {
    "colab": {
      "provenance": []
    },
    "kernelspec": {
      "name": "python3",
      "display_name": "Python 3"
    },
    "language_info": {
      "name": "python"
    }
  },
  "cells": [
    {
      "cell_type": "code",
      "source": [
        "# Instalar imageanalysis de azure\n",
        "!pip install azure-ai-vision-imageanalysis"
      ],
      "metadata": {
        "colab": {
          "base_uri": "https://localhost:8080/"
        },
        "id": "jzVdQ5cfCqIH",
        "outputId": "fe4fc613-4a6a-4a9e-9f0e-b6cac39eb319"
      },
      "execution_count": null,
      "outputs": [
        {
          "output_type": "stream",
          "name": "stdout",
          "text": [
            "Requirement already satisfied: azure-ai-vision-imageanalysis in /usr/local/lib/python3.11/dist-packages (1.0.0)\n",
            "Requirement already satisfied: isodate>=0.6.1 in /usr/local/lib/python3.11/dist-packages (from azure-ai-vision-imageanalysis) (0.7.2)\n",
            "Requirement already satisfied: azure-core>=1.30.0 in /usr/local/lib/python3.11/dist-packages (from azure-ai-vision-imageanalysis) (1.32.0)\n",
            "Requirement already satisfied: typing-extensions>=4.6.0 in /usr/local/lib/python3.11/dist-packages (from azure-ai-vision-imageanalysis) (4.12.2)\n",
            "Requirement already satisfied: requests>=2.21.0 in /usr/local/lib/python3.11/dist-packages (from azure-core>=1.30.0->azure-ai-vision-imageanalysis) (2.32.3)\n",
            "Requirement already satisfied: six>=1.11.0 in /usr/local/lib/python3.11/dist-packages (from azure-core>=1.30.0->azure-ai-vision-imageanalysis) (1.17.0)\n",
            "Requirement already satisfied: charset-normalizer<4,>=2 in /usr/local/lib/python3.11/dist-packages (from requests>=2.21.0->azure-core>=1.30.0->azure-ai-vision-imageanalysis) (3.4.1)\n",
            "Requirement already satisfied: idna<4,>=2.5 in /usr/local/lib/python3.11/dist-packages (from requests>=2.21.0->azure-core>=1.30.0->azure-ai-vision-imageanalysis) (3.10)\n",
            "Requirement already satisfied: urllib3<3,>=1.21.1 in /usr/local/lib/python3.11/dist-packages (from requests>=2.21.0->azure-core>=1.30.0->azure-ai-vision-imageanalysis) (2.3.0)\n",
            "Requirement already satisfied: certifi>=2017.4.17 in /usr/local/lib/python3.11/dist-packages (from requests>=2.21.0->azure-core>=1.30.0->azure-ai-vision-imageanalysis) (2025.1.31)\n"
          ]
        }
      ]
    },
    {
      "cell_type": "code",
      "source": [
        "# Importar librerias de analisis y despliegue de imagenes\n",
        "import os\n",
        "from azure.ai.vision.imageanalysis import ImageAnalysisClient\n",
        "from azure.ai.vision.imageanalysis.models import VisualFeatures\n",
        "from azure.core.credentials import AzureKeyCredential\n",
        "from IPython.display import Image\n",
        "\n",
        "# Definir endpoint y key obtenidas de azure\n",
        "endpoint = \"https://compvisluis.cognitiveservices.azure.com/\"\n",
        "key = \"1xE7gDv3volD4pGJPK2eF4qg2Kd48vlmgxIoq6Vk9nmv5bphGtfkJQQJ99BCACYeBjFXJ3w3AAAFACOG5DyI\"\n",
        "\n",
        "# Crear una lista con las url de las imagenes a analizar\n",
        "image_urls = [\n",
        "                \"https://github.com/ecendejas/imgMNA/blob/main/faces.jpg?raw=true\",\n",
        "                \"https://github.com/A01232963/CloudComputing/blob/main/soccer.jpeg?raw=true\",\n",
        "                \"https://github.com/A01232963/CloudComputing/blob/main/tennis.jpg?raw=true\",\n",
        "                \"https://github.com/A01232963/CloudComputing/blob/main/nfl.jpg?raw=true\",\n",
        "                \"https://github.com/A01232963/CloudComputing/blob/main/basketball.jpeg?raw=true\",\n",
        "                \"https://github.com/A01232963/CloudComputing/blob/main/baseball.jpg?raw=true\",\n",
        "                \"https://github.com/A01232963/CloudComputing/blob/main/tesla.jpg?raw=true\",\n",
        "                \"https://github.com/A01232963/CloudComputing/blob/main/cybertruck.jpg?raw=true\"\n",
        "\n",
        "\n",
        "              ]\n",
        "\n",
        "# Definir client, que llama a la funcion de analisis de imagen (computer vision) utilizando endpoint y key\n",
        "client = ImageAnalysisClient(endpoint=endpoint, credential=AzureKeyCredential(key))\n",
        "\n",
        "# Se crea una función para desplegar, analizar e imprimir la descripción de una imagen\n",
        "def create_caption_img(url):\n",
        "  #Dentro de result, se almacena el resultado arrojado por la API para la imagen entregada.\n",
        "  result = client.analyze_from_url(image_url=url,\n",
        "                                   visual_features=[VisualFeatures.CAPTION,\n",
        "                                   VisualFeatures.READ])\n",
        "  #Se despliega la imagen\n",
        "  print(\"==\"*30)\n",
        "  print(\"Imagen:\")\n",
        "  display(Image(url=url, width=200, height=100))\n",
        "  #Se despliegan resultados\n",
        "  print(f\"Descripción generada: '{result.caption.text}'\")\n",
        "  print(f\"Porcentaje de confianza: {result.caption.confidence*100:.2f}%\")\n",
        "\n",
        "\n",
        "# Se manda llamar la función para todas las urls en la lista\n",
        "for i, url in enumerate(image_urls):\n",
        "  create_caption_img(url)"
      ],
      "metadata": {
        "colab": {
          "base_uri": "https://localhost:8080/",
          "height": 1000
        },
        "id": "LYHolqXLCrQJ",
        "outputId": "2db7a3c3-4f86-486b-eb70-0b682f908cd8"
      },
      "execution_count": null,
      "outputs": [
        {
          "output_type": "stream",
          "name": "stdout",
          "text": [
            "============================================================\n",
            "Imagen:\n"
          ]
        },
        {
          "output_type": "display_data",
          "data": {
            "text/html": [
              "<img src=\"https://github.com/ecendejas/imgMNA/blob/main/faces.jpg?raw=true\" width=\"200\" height=\"100\"/>"
            ],
            "text/plain": [
              "<IPython.core.display.Image object>"
            ]
          },
          "metadata": {}
        },
        {
          "output_type": "stream",
          "name": "stdout",
          "text": [
            "Descripción generada: 'a group of people posing for a photo'\n",
            "Porcentaje de confianza: 83.20%\n",
            "============================================================\n",
            "Imagen:\n"
          ]
        },
        {
          "output_type": "display_data",
          "data": {
            "text/html": [
              "<img src=\"https://github.com/A01232963/CloudComputing/blob/main/soccer.jpeg?raw=true\" width=\"200\" height=\"100\"/>"
            ],
            "text/plain": [
              "<IPython.core.display.Image object>"
            ]
          },
          "metadata": {}
        },
        {
          "output_type": "stream",
          "name": "stdout",
          "text": [
            "Descripción generada: 'a group of people playing football'\n",
            "Porcentaje de confianza: 82.60%\n",
            "============================================================\n",
            "Imagen:\n"
          ]
        },
        {
          "output_type": "display_data",
          "data": {
            "text/html": [
              "<img src=\"https://github.com/A01232963/CloudComputing/blob/main/tennis.jpg?raw=true\" width=\"200\" height=\"100\"/>"
            ],
            "text/plain": [
              "<IPython.core.display.Image object>"
            ]
          },
          "metadata": {}
        },
        {
          "output_type": "stream",
          "name": "stdout",
          "text": [
            "Descripción generada: 'a man playing tennis on a court'\n",
            "Porcentaje de confianza: 75.37%\n",
            "============================================================\n",
            "Imagen:\n"
          ]
        },
        {
          "output_type": "display_data",
          "data": {
            "text/html": [
              "<img src=\"https://github.com/A01232963/CloudComputing/blob/main/nfl.jpg?raw=true\" width=\"200\" height=\"100\"/>"
            ],
            "text/plain": [
              "<IPython.core.display.Image object>"
            ]
          },
          "metadata": {}
        },
        {
          "output_type": "stream",
          "name": "stdout",
          "text": [
            "Descripción generada: 'a group of football players on a field'\n",
            "Porcentaje de confianza: 80.00%\n",
            "============================================================\n",
            "Imagen:\n"
          ]
        },
        {
          "output_type": "display_data",
          "data": {
            "text/html": [
              "<img src=\"https://github.com/A01232963/CloudComputing/blob/main/basketball.jpeg?raw=true\" width=\"200\" height=\"100\"/>"
            ],
            "text/plain": [
              "<IPython.core.display.Image object>"
            ]
          },
          "metadata": {}
        },
        {
          "output_type": "stream",
          "name": "stdout",
          "text": [
            "Descripción generada: 'a group of women playing basketball'\n",
            "Porcentaje de confianza: 77.12%\n",
            "============================================================\n",
            "Imagen:\n"
          ]
        },
        {
          "output_type": "display_data",
          "data": {
            "text/html": [
              "<img src=\"https://github.com/A01232963/CloudComputing/blob/main/baseball.jpg?raw=true\" width=\"200\" height=\"100\"/>"
            ],
            "text/plain": [
              "<IPython.core.display.Image object>"
            ]
          },
          "metadata": {}
        },
        {
          "output_type": "stream",
          "name": "stdout",
          "text": [
            "Descripción generada: 'a baseball player swinging a bat'\n",
            "Porcentaje de confianza: 76.51%\n",
            "============================================================\n",
            "Imagen:\n"
          ]
        },
        {
          "output_type": "display_data",
          "data": {
            "text/html": [
              "<img src=\"https://github.com/A01232963/CloudComputing/blob/main/tesla.jpg?raw=true\" width=\"200\" height=\"100\"/>"
            ],
            "text/plain": [
              "<IPython.core.display.Image object>"
            ]
          },
          "metadata": {}
        },
        {
          "output_type": "stream",
          "name": "stdout",
          "text": [
            "Descripción generada: 'a red car parked in front of a red building'\n",
            "Porcentaje de confianza: 75.40%\n",
            "============================================================\n",
            "Imagen:\n"
          ]
        },
        {
          "output_type": "display_data",
          "data": {
            "text/html": [
              "<img src=\"https://github.com/A01232963/CloudComputing/blob/main/cybertruck.jpg?raw=true\" width=\"200\" height=\"100\"/>"
            ],
            "text/plain": [
              "<IPython.core.display.Image object>"
            ]
          },
          "metadata": {}
        },
        {
          "output_type": "stream",
          "name": "stdout",
          "text": [
            "Descripción generada: 'a silver car parked on grass'\n",
            "Porcentaje de confianza: 75.49%\n"
          ]
        }
      ]
    },
    {
      "cell_type": "code",
      "source": [],
      "metadata": {
        "id": "yeiT6dbtC6El"
      },
      "execution_count": null,
      "outputs": []
    }
  ]
}