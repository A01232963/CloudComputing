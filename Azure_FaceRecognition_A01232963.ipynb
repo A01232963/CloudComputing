{
  "nbformat": 4,
  "nbformat_minor": 0,
  "metadata": {
    "colab": {
      "provenance": []
    },
    "kernelspec": {
      "name": "python3",
      "display_name": "Python 3"
    },
    "language_info": {
      "name": "python"
    }
  },
  "cells": [
    {
      "cell_type": "code",
      "execution_count": null,
      "metadata": {
        "id": "h6iF43TZYxmT"
      },
      "outputs": [],
      "source": [
        "import json, os, requests\n",
        "from IPython.display import Image"
      ]
    },
    {
      "cell_type": "code",
      "source": [
        "# Definiendo la llave obtenuida de Azure\n",
        "subscription_key = \"Eb4zkpBr3l7UHgsNxi1ynZCBY1DR4AmhrsdLVMDGXYNIbUivaPDqJQQJ99BCACYeBjFXJ3w3AAAEACOGt8kh\"\n",
        "\n",
        "# Definiendo la URL de la API\n",
        "face_api_url = \"https://facerecognitiona01232963.cognitiveservices.azure.com/face/v1.0/detect\"\n",
        "\n",
        "# Ligas a Imagenes\n",
        "image_urls = [\n",
        "                \"https://github.com/ecendejas/imgMNA/blob/main/faces.jpg?raw=true\",\n",
        "                \"https://github.com/A01232963/CloudComputing/blob/main/acdc.jpg?raw=true\",\n",
        "                \"https://github.com/A01232963/CloudComputing/blob/main/metallica2.jpg?raw=true\",\n",
        "                \"https://github.com/A01232963/CloudComputing/blob/main/gunsnroses.jpg?raw=true\",\n",
        "                \"https://github.com/A01232963/CloudComputing/blob/main/rollingstones.jpeg?raw=true\",\n",
        "                \"https://github.com/A01232963/CloudComputing/blob/main/queen.jpg?raw=true\",\n",
        "\n",
        "\n",
        "              ]\n",
        "# Se pasa un diccionario con el encabezado para la clave de suscripción para autenticar la API.\n",
        "headers = {'Ocp-Apim-Subscription-Key': subscription_key}\n",
        "\n",
        "# Se establecen parametros a utilizar posteriormente en la función de la API, esto define que no\n",
        "# arroje el FaceId ni FaceLandmarks en el resultado\n",
        "params = {\n",
        "    'returnFaceId': 'false',\n",
        "    'returnFaceLandmarks': 'false'\n",
        "}\n",
        "\n",
        "# Se define una función para dar formato al output JSON para ser más legible\n",
        "def format_json(json_dump):\n",
        "  #Crear lista con diccionarios\n",
        "  response_json = json.loads(json_dump)\n",
        "  # Iterar lista y crear formato\n",
        "  print('Face #: (top, left, width, height)')\n",
        "  print('=='*20)\n",
        "  #Por cada cara retornada en el json, definir sus coordenadas e imprimirlas en formato Face #: (top, left, width, length)\n",
        "  for index, face in enumerate(response_json, start=1):\n",
        "      top = face['faceRectangle']['top']\n",
        "      left = face['faceRectangle']['left']\n",
        "      width = face['faceRectangle']['width']\n",
        "      height = face['faceRectangle']['height']\n",
        "      face_str = f\"Face {index}: ({top},{left},{width},{height})\"\n",
        "      print(face_str)\n",
        "\n",
        "# Se define una función para extraer el nombre del archivo\n",
        "def extract_filename_part(url):\n",
        "    path = url.split('main/')[1]\n",
        "    filename = path.split('.')[0]\n",
        "    return filename.upper()\n",
        "\n",
        "# Código principal para obtener el resultado de face recognition y desplegarlo\n",
        "# Ciclo for que recorre la lista de urls que contienen las imagenes\n",
        "for i, img in enumerate(image_urls):\n",
        "  #se obtiene el request del API de reconocimiento facial con los parámetros previamente definidos para cada imagen\n",
        "  response = requests.post(face_api_url, params=params, headers=headers, json={\"url\": image_urls[i]})\n",
        "\n",
        "  print('=='*20) #Imprime divisiones\n",
        "  print(extract_filename_part(img)) #Se imprime el nombre del archivo\n",
        "  output = json.dumps(response.json()) #Se guarda el resultado\n",
        "  format_json(output) #Se da formato al JSON arrojado\n",
        "  display(Image(url=img, width=200, height=100))  #Se despliega la imagen\n"
      ],
      "metadata": {
        "colab": {
          "base_uri": "https://localhost:8080/",
          "height": 384
        },
        "id": "YL0G23lYah76",
        "outputId": "788b4f5a-c22c-4752-8c55-7cc3aadc6f10"
      },
      "execution_count": null,
      "outputs": [
        {
          "output_type": "stream",
          "name": "stdout",
          "text": [
            "========================================\n",
            "FACES\n",
            "Face #: (top, left, width, height)\n",
            "========================================\n"
          ]
        },
        {
          "output_type": "error",
          "ename": "TypeError",
          "evalue": "string indices must be integers, not 'str'",
          "traceback": [
            "\u001b[0;31m---------------------------------------------------------------------------\u001b[0m",
            "\u001b[0;31mTypeError\u001b[0m                                 Traceback (most recent call last)",
            "\u001b[0;32m<ipython-input-2-f3d320753621>\u001b[0m in \u001b[0;36m<cell line: 0>\u001b[0;34m()\u001b[0m\n\u001b[1;32m     57\u001b[0m   \u001b[0mprint\u001b[0m\u001b[0;34m(\u001b[0m\u001b[0mextract_filename_part\u001b[0m\u001b[0;34m(\u001b[0m\u001b[0mimg\u001b[0m\u001b[0;34m)\u001b[0m\u001b[0;34m)\u001b[0m \u001b[0;31m#Se imprime el nombre del archivo\u001b[0m\u001b[0;34m\u001b[0m\u001b[0;34m\u001b[0m\u001b[0m\n\u001b[1;32m     58\u001b[0m   \u001b[0moutput\u001b[0m \u001b[0;34m=\u001b[0m \u001b[0mjson\u001b[0m\u001b[0;34m.\u001b[0m\u001b[0mdumps\u001b[0m\u001b[0;34m(\u001b[0m\u001b[0mresponse\u001b[0m\u001b[0;34m.\u001b[0m\u001b[0mjson\u001b[0m\u001b[0;34m(\u001b[0m\u001b[0;34m)\u001b[0m\u001b[0;34m)\u001b[0m \u001b[0;31m#Se guarda el resultado\u001b[0m\u001b[0;34m\u001b[0m\u001b[0;34m\u001b[0m\u001b[0m\n\u001b[0;32m---> 59\u001b[0;31m   \u001b[0mformat_json\u001b[0m\u001b[0;34m(\u001b[0m\u001b[0moutput\u001b[0m\u001b[0;34m)\u001b[0m \u001b[0;31m#Se da formato al JSON arrojado\u001b[0m\u001b[0;34m\u001b[0m\u001b[0;34m\u001b[0m\u001b[0m\n\u001b[0m\u001b[1;32m     60\u001b[0m   \u001b[0mdisplay\u001b[0m\u001b[0;34m(\u001b[0m\u001b[0mImage\u001b[0m\u001b[0;34m(\u001b[0m\u001b[0murl\u001b[0m\u001b[0;34m=\u001b[0m\u001b[0mimg\u001b[0m\u001b[0;34m,\u001b[0m \u001b[0mwidth\u001b[0m\u001b[0;34m=\u001b[0m\u001b[0;36m200\u001b[0m\u001b[0;34m,\u001b[0m \u001b[0mheight\u001b[0m\u001b[0;34m=\u001b[0m\u001b[0;36m100\u001b[0m\u001b[0;34m)\u001b[0m\u001b[0;34m)\u001b[0m  \u001b[0;31m#Se despliega la imagen\u001b[0m\u001b[0;34m\u001b[0m\u001b[0;34m\u001b[0m\u001b[0m\n",
            "\u001b[0;32m<ipython-input-2-f3d320753621>\u001b[0m in \u001b[0;36mformat_json\u001b[0;34m(json_dump)\u001b[0m\n\u001b[1;32m     35\u001b[0m   \u001b[0;31m#Por cada cara retornada en el json, definir sus coordenadas e imprimirlas en formato Face #: (top, left, width, length)\u001b[0m\u001b[0;34m\u001b[0m\u001b[0;34m\u001b[0m\u001b[0m\n\u001b[1;32m     36\u001b[0m   \u001b[0;32mfor\u001b[0m \u001b[0mindex\u001b[0m\u001b[0;34m,\u001b[0m \u001b[0mface\u001b[0m \u001b[0;32min\u001b[0m \u001b[0menumerate\u001b[0m\u001b[0;34m(\u001b[0m\u001b[0mresponse_json\u001b[0m\u001b[0;34m,\u001b[0m \u001b[0mstart\u001b[0m\u001b[0;34m=\u001b[0m\u001b[0;36m1\u001b[0m\u001b[0;34m)\u001b[0m\u001b[0;34m:\u001b[0m\u001b[0;34m\u001b[0m\u001b[0;34m\u001b[0m\u001b[0m\n\u001b[0;32m---> 37\u001b[0;31m       \u001b[0mtop\u001b[0m \u001b[0;34m=\u001b[0m \u001b[0mface\u001b[0m\u001b[0;34m[\u001b[0m\u001b[0;34m'faceRectangle'\u001b[0m\u001b[0;34m]\u001b[0m\u001b[0;34m[\u001b[0m\u001b[0;34m'top'\u001b[0m\u001b[0;34m]\u001b[0m\u001b[0;34m\u001b[0m\u001b[0;34m\u001b[0m\u001b[0m\n\u001b[0m\u001b[1;32m     38\u001b[0m       \u001b[0mleft\u001b[0m \u001b[0;34m=\u001b[0m \u001b[0mface\u001b[0m\u001b[0;34m[\u001b[0m\u001b[0;34m'faceRectangle'\u001b[0m\u001b[0;34m]\u001b[0m\u001b[0;34m[\u001b[0m\u001b[0;34m'left'\u001b[0m\u001b[0;34m]\u001b[0m\u001b[0;34m\u001b[0m\u001b[0;34m\u001b[0m\u001b[0m\n\u001b[1;32m     39\u001b[0m       \u001b[0mwidth\u001b[0m \u001b[0;34m=\u001b[0m \u001b[0mface\u001b[0m\u001b[0;34m[\u001b[0m\u001b[0;34m'faceRectangle'\u001b[0m\u001b[0;34m]\u001b[0m\u001b[0;34m[\u001b[0m\u001b[0;34m'width'\u001b[0m\u001b[0;34m]\u001b[0m\u001b[0;34m\u001b[0m\u001b[0;34m\u001b[0m\u001b[0m\n",
            "\u001b[0;31mTypeError\u001b[0m: string indices must be integers, not 'str'"
          ]
        }
      ]
    },
    {
      "cell_type": "code",
      "source": [],
      "metadata": {
        "id": "cwFdHCPZo00e"
      },
      "execution_count": null,
      "outputs": []
    }
  ]
}