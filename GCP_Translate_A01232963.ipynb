{
  "nbformat": 4,
  "nbformat_minor": 0,
  "metadata": {
    "colab": {
      "provenance": []
    },
    "kernelspec": {
      "name": "python3",
      "display_name": "Python 3"
    },
    "language_info": {
      "name": "python"
    }
  },
  "cells": [
    {
      "cell_type": "code",
      "execution_count": null,
      "metadata": {
        "colab": {
          "base_uri": "https://localhost:8080/"
        },
        "id": "jMa8sGVQjILb",
        "outputId": "f1ffb6ca-b367-4274-cc71-f7c7acfd9ac8"
      },
      "outputs": [
        {
          "output_type": "stream",
          "name": "stdout",
          "text": [
            "Requirement already satisfied: google-cloud-translate in /usr/local/lib/python3.11/dist-packages (3.19.0)\n",
            "Requirement already satisfied: google-api-core!=2.0.*,!=2.1.*,!=2.10.*,!=2.2.*,!=2.3.*,!=2.4.*,!=2.5.*,!=2.6.*,!=2.7.*,!=2.8.*,!=2.9.*,<3.0.0dev,>=1.34.1 in /usr/local/lib/python3.11/dist-packages (from google-api-core[grpc]!=2.0.*,!=2.1.*,!=2.10.*,!=2.2.*,!=2.3.*,!=2.4.*,!=2.5.*,!=2.6.*,!=2.7.*,!=2.8.*,!=2.9.*,<3.0.0dev,>=1.34.1->google-cloud-translate) (2.24.1)\n",
            "Requirement already satisfied: google-auth!=2.24.0,!=2.25.0,<3.0.0dev,>=2.14.1 in /usr/local/lib/python3.11/dist-packages (from google-cloud-translate) (2.38.0)\n",
            "Requirement already satisfied: google-cloud-core<3.0.0dev,>=1.4.4 in /usr/local/lib/python3.11/dist-packages (from google-cloud-translate) (2.4.2)\n",
            "Requirement already satisfied: proto-plus<2.0.0dev,>=1.22.3 in /usr/local/lib/python3.11/dist-packages (from google-cloud-translate) (1.26.0)\n",
            "Requirement already satisfied: protobuf!=4.21.0,!=4.21.1,!=4.21.2,!=4.21.3,!=4.21.4,!=4.21.5,<6.0.0dev,>=3.20.2 in /usr/local/lib/python3.11/dist-packages (from google-cloud-translate) (4.25.6)\n",
            "Requirement already satisfied: grpc-google-iam-v1<1.0.0dev,>=0.12.4 in /usr/local/lib/python3.11/dist-packages (from google-cloud-translate) (0.14.1)\n",
            "Requirement already satisfied: googleapis-common-protos<2.0.dev0,>=1.56.2 in /usr/local/lib/python3.11/dist-packages (from google-api-core!=2.0.*,!=2.1.*,!=2.10.*,!=2.2.*,!=2.3.*,!=2.4.*,!=2.5.*,!=2.6.*,!=2.7.*,!=2.8.*,!=2.9.*,<3.0.0dev,>=1.34.1->google-api-core[grpc]!=2.0.*,!=2.1.*,!=2.10.*,!=2.2.*,!=2.3.*,!=2.4.*,!=2.5.*,!=2.6.*,!=2.7.*,!=2.8.*,!=2.9.*,<3.0.0dev,>=1.34.1->google-cloud-translate) (1.69.0)\n",
            "Requirement already satisfied: requests<3.0.0.dev0,>=2.18.0 in /usr/local/lib/python3.11/dist-packages (from google-api-core!=2.0.*,!=2.1.*,!=2.10.*,!=2.2.*,!=2.3.*,!=2.4.*,!=2.5.*,!=2.6.*,!=2.7.*,!=2.8.*,!=2.9.*,<3.0.0dev,>=1.34.1->google-api-core[grpc]!=2.0.*,!=2.1.*,!=2.10.*,!=2.2.*,!=2.3.*,!=2.4.*,!=2.5.*,!=2.6.*,!=2.7.*,!=2.8.*,!=2.9.*,<3.0.0dev,>=1.34.1->google-cloud-translate) (2.32.3)\n",
            "Requirement already satisfied: grpcio<2.0dev,>=1.33.2 in /usr/local/lib/python3.11/dist-packages (from google-api-core[grpc]!=2.0.*,!=2.1.*,!=2.10.*,!=2.2.*,!=2.3.*,!=2.4.*,!=2.5.*,!=2.6.*,!=2.7.*,!=2.8.*,!=2.9.*,<3.0.0dev,>=1.34.1->google-cloud-translate) (1.70.0)\n",
            "Requirement already satisfied: grpcio-status<2.0.dev0,>=1.33.2 in /usr/local/lib/python3.11/dist-packages (from google-api-core[grpc]!=2.0.*,!=2.1.*,!=2.10.*,!=2.2.*,!=2.3.*,!=2.4.*,!=2.5.*,!=2.6.*,!=2.7.*,!=2.8.*,!=2.9.*,<3.0.0dev,>=1.34.1->google-cloud-translate) (1.62.3)\n",
            "Requirement already satisfied: cachetools<6.0,>=2.0.0 in /usr/local/lib/python3.11/dist-packages (from google-auth!=2.24.0,!=2.25.0,<3.0.0dev,>=2.14.1->google-cloud-translate) (5.5.2)\n",
            "Requirement already satisfied: pyasn1-modules>=0.2.1 in /usr/local/lib/python3.11/dist-packages (from google-auth!=2.24.0,!=2.25.0,<3.0.0dev,>=2.14.1->google-cloud-translate) (0.4.1)\n",
            "Requirement already satisfied: rsa<5,>=3.1.4 in /usr/local/lib/python3.11/dist-packages (from google-auth!=2.24.0,!=2.25.0,<3.0.0dev,>=2.14.1->google-cloud-translate) (4.9)\n",
            "Requirement already satisfied: pyasn1<0.7.0,>=0.4.6 in /usr/local/lib/python3.11/dist-packages (from pyasn1-modules>=0.2.1->google-auth!=2.24.0,!=2.25.0,<3.0.0dev,>=2.14.1->google-cloud-translate) (0.6.1)\n",
            "Requirement already satisfied: charset-normalizer<4,>=2 in /usr/local/lib/python3.11/dist-packages (from requests<3.0.0.dev0,>=2.18.0->google-api-core!=2.0.*,!=2.1.*,!=2.10.*,!=2.2.*,!=2.3.*,!=2.4.*,!=2.5.*,!=2.6.*,!=2.7.*,!=2.8.*,!=2.9.*,<3.0.0dev,>=1.34.1->google-api-core[grpc]!=2.0.*,!=2.1.*,!=2.10.*,!=2.2.*,!=2.3.*,!=2.4.*,!=2.5.*,!=2.6.*,!=2.7.*,!=2.8.*,!=2.9.*,<3.0.0dev,>=1.34.1->google-cloud-translate) (3.4.1)\n",
            "Requirement already satisfied: idna<4,>=2.5 in /usr/local/lib/python3.11/dist-packages (from requests<3.0.0.dev0,>=2.18.0->google-api-core!=2.0.*,!=2.1.*,!=2.10.*,!=2.2.*,!=2.3.*,!=2.4.*,!=2.5.*,!=2.6.*,!=2.7.*,!=2.8.*,!=2.9.*,<3.0.0dev,>=1.34.1->google-api-core[grpc]!=2.0.*,!=2.1.*,!=2.10.*,!=2.2.*,!=2.3.*,!=2.4.*,!=2.5.*,!=2.6.*,!=2.7.*,!=2.8.*,!=2.9.*,<3.0.0dev,>=1.34.1->google-cloud-translate) (3.10)\n",
            "Requirement already satisfied: urllib3<3,>=1.21.1 in /usr/local/lib/python3.11/dist-packages (from requests<3.0.0.dev0,>=2.18.0->google-api-core!=2.0.*,!=2.1.*,!=2.10.*,!=2.2.*,!=2.3.*,!=2.4.*,!=2.5.*,!=2.6.*,!=2.7.*,!=2.8.*,!=2.9.*,<3.0.0dev,>=1.34.1->google-api-core[grpc]!=2.0.*,!=2.1.*,!=2.10.*,!=2.2.*,!=2.3.*,!=2.4.*,!=2.5.*,!=2.6.*,!=2.7.*,!=2.8.*,!=2.9.*,<3.0.0dev,>=1.34.1->google-cloud-translate) (2.3.0)\n",
            "Requirement already satisfied: certifi>=2017.4.17 in /usr/local/lib/python3.11/dist-packages (from requests<3.0.0.dev0,>=2.18.0->google-api-core!=2.0.*,!=2.1.*,!=2.10.*,!=2.2.*,!=2.3.*,!=2.4.*,!=2.5.*,!=2.6.*,!=2.7.*,!=2.8.*,!=2.9.*,<3.0.0dev,>=1.34.1->google-api-core[grpc]!=2.0.*,!=2.1.*,!=2.10.*,!=2.2.*,!=2.3.*,!=2.4.*,!=2.5.*,!=2.6.*,!=2.7.*,!=2.8.*,!=2.9.*,<3.0.0dev,>=1.34.1->google-cloud-translate) (2025.1.31)\n"
          ]
        }
      ],
      "source": [
        "# Instalar libreria de Google Cloud Translate\n",
        "!pip install google-cloud-translate"
      ]
    },
    {
      "cell_type": "code",
      "source": [
        "#Importar modulo de translate_v2\n",
        "from google.cloud import translate_v2 as translate\n",
        "\n",
        "#Importar modulo de sistema para manejo de archivos\n",
        "import os\n",
        "\n",
        "#Importar modulo de json para lectura de credenciales\n",
        "import json\n",
        "\n",
        "#Definir el archivo con las credenciales generado como las credenciales del ambiente del sistema\n",
        "os.environ['GOOGLE_APPLICATION_CREDENTIALS'] = 'credentials.json'\n",
        "\n",
        "#Crear Instancia de cliente para servicio de traducción\n",
        "translateClient = translate.Client()"
      ],
      "metadata": {
        "id": "O9ixa8wfjdR6"
      },
      "execution_count": null,
      "outputs": []
    },
    {
      "cell_type": "code",
      "source": [
        "#Crear una lista con 25 frases a traducir\n",
        "Frases = ['L intelligence artificielle permet aux entreprises de prendre des décisions basées sur des données en temps réel.',\n",
        "'Le cloud computing rend possible la gestion de grandes quantités de données sans nécessiter d infrastructure physique.',\n",
        "'Les algorithmes d apprentissage automatique sont de plus en plus utilisés dans le diagnostic médical.',\n",
        "'L intelligence artificielle peut analyser de grands ensembles de données pour identifier des tendances cachées.',\n",
        "'Le cloud computing offre une flexibilité inégalée pour les entreprises en expansion.',\n",
        "'Künstliche Intelligenz wird zunehmend in der Automatisierung von Geschäftsprozessen eingesetzt.',\n",
        "'Cloud-Computing ermöglicht eine nahtlose Skalierung von IT-Infrastrukturen ohne zusätzliche Hardwarekosten.',\n",
        "'Maschinelles Lernen kann helfen, Muster in riesigen Datensätzen zu erkennen und präzisere Vorhersagen zu treffen.',\n",
        "'Die Integration von KI in die Cloud-Technologie verbessert die Effizienz und verringert die Fehlerquote.',\n",
        "'Cloud-Dienste bieten Unternehmen eine kostengünstige Möglichkeit, ihre Daten sicher zu speichern und zu verwalten.',\n",
        "'L intelligenza artificiale sta migliorando la sicurezza nelle reti informatiche, rilevando attacchi in tempo reale.',\n",
        "'Il cloud computing ha reso possibile la creazione di applicazioni più scalabili e accessibili globalmente.',\n",
        "'I sistemi di IA sono in grado di comprendere e rispondere in modo naturale alle richieste degli utenti.',\n",
        "'L intelligenza artificiale viene utilizzata per ottimizzare l efficienza nelle catene di distribuzione.',\n",
        "'Il cloud computing facilita l accesso alle risorse informatiche senza necessità di server locali.',\n",
        "'A inteligência artificial pode melhorar significativamente os processos de produção nas fábricas.',\n",
        "'A computação em nuvem possibilita o acesso remoto a dados e aplicações de forma segura.',\n",
        "'Com a IA, os sistemas de recomendação em plataformas de streaming são cada vez mais precisos.',\n",
        "'A computação em nuvem permite que as empresas aumentem sua capacidade computacional sem grandes investimentos iniciais.',\n",
        "'O aprendizado de máquina pode ajudar na previsão de tendências de mercado com grande precisão.',\n",
        "'Künstliche Intelligenz wird zunehmend in der medizinischen Forschung eingesetzt, um neue Behandlungsmethoden zu entwickeln.',\n",
        "'Cloud Computing ermöglicht es Unternehmen, ihre Software-Dienste effizient und kostengünstig zu verwalten.',\n",
        "'Maschinelles Lernen wird genutzt, um das Kundenerlebnis in Online-Shops zu verbessern.',\n",
        "'Cloud-basierte Lösungen bieten eine höhere Verfügbarkeit und Redundanz für geschäftskritische Anwendungen.',\n",
        "'Die Nutzung von KI in der Automobilindustrie fördert die Entwicklung autonomer Fahrzeuge.']"
      ],
      "metadata": {
        "id": "seIaL3pXmMhl"
      },
      "execution_count": null,
      "outputs": []
    },
    {
      "cell_type": "code",
      "source": [
        "# Para cada frase dentro de la lista Frases, detectar el lenguaje, traducirlo e imprimirlo\n",
        "for frase in Frases:\n",
        "  print('=='*60) #Imprimir separador\n",
        "  detectedRes = translateClient.detect_language(frase) #Definir variable de lenguaje detectado\n",
        "  transRes = translateClient.translate(frase,'es') #Definir variable con el resultado de la traducción\n",
        "  print(f\"Traducido del '{detectedRes['language']}' \\nInput: '{frase}'  \\nOutput: {transRes['translatedText']}\") #Imprimir los resultados"
      ],
      "metadata": {
        "colab": {
          "base_uri": "https://localhost:8080/"
        },
        "id": "JNefC0xxjjKO",
        "outputId": "4cd881e8-fab6-45e3-f96a-bf46fcda3afa"
      },
      "execution_count": null,
      "outputs": [
        {
          "output_type": "stream",
          "name": "stdout",
          "text": [
            "========================================================================================================================\n",
            "Traducido del 'fr' \n",
            "Input: 'L intelligence artificielle permet aux entreprises de prendre des décisions basées sur des données en temps réel.'  \n",
            "Output: La inteligencia artificial permite a las empresas tomar decisiones basadas en datos en tiempo real.\n",
            "========================================================================================================================\n",
            "Traducido del 'fr' \n",
            "Input: 'Le cloud computing rend possible la gestion de grandes quantités de données sans nécessiter d infrastructure physique.'  \n",
            "Output: La computación en la nube permite gestionar grandes cantidades de datos sin necesidad de infraestructura física.\n",
            "========================================================================================================================\n",
            "Traducido del 'fr' \n",
            "Input: 'Les algorithmes d apprentissage automatique sont de plus en plus utilisés dans le diagnostic médical.'  \n",
            "Output: Los algoritmos de aprendizaje automático se utilizan cada vez más en el diagnóstico médico.\n",
            "========================================================================================================================\n",
            "Traducido del 'fr' \n",
            "Input: 'L intelligence artificielle peut analyser de grands ensembles de données pour identifier des tendances cachées.'  \n",
            "Output: La inteligencia artificial puede analizar grandes conjuntos de datos para identificar tendencias ocultas.\n",
            "========================================================================================================================\n",
            "Traducido del 'fr' \n",
            "Input: 'Le cloud computing offre une flexibilité inégalée pour les entreprises en expansion.'  \n",
            "Output: La computación en la nube ofrece una flexibilidad incomparable para las empresas en crecimiento.\n",
            "========================================================================================================================\n",
            "Traducido del 'de' \n",
            "Input: 'Künstliche Intelligenz wird zunehmend in der Automatisierung von Geschäftsprozessen eingesetzt.'  \n",
            "Output: La inteligencia artificial se utiliza cada vez más para automatizar procesos comerciales.\n",
            "========================================================================================================================\n",
            "Traducido del 'de' \n",
            "Input: 'Cloud-Computing ermöglicht eine nahtlose Skalierung von IT-Infrastrukturen ohne zusätzliche Hardwarekosten.'  \n",
            "Output: La computación en la nube permite una escalabilidad perfecta de las infraestructuras de TI sin costes de hardware adicionales.\n",
            "========================================================================================================================\n",
            "Traducido del 'de' \n",
            "Input: 'Maschinelles Lernen kann helfen, Muster in riesigen Datensätzen zu erkennen und präzisere Vorhersagen zu treffen.'  \n",
            "Output: El aprendizaje automático puede ayudar a identificar patrones en grandes conjuntos de datos y realizar predicciones más precisas.\n",
            "========================================================================================================================\n",
            "Traducido del 'de' \n",
            "Input: 'Die Integration von KI in die Cloud-Technologie verbessert die Effizienz und verringert die Fehlerquote.'  \n",
            "Output: La integración de IA en la tecnología de la nube mejora la eficiencia y reduce los errores.\n",
            "========================================================================================================================\n",
            "Traducido del 'de' \n",
            "Input: 'Cloud-Dienste bieten Unternehmen eine kostengünstige Möglichkeit, ihre Daten sicher zu speichern und zu verwalten.'  \n",
            "Output: Los servicios en la nube ofrecen a las empresas una forma rentable de almacenar y gestionar sus datos de forma segura.\n",
            "========================================================================================================================\n",
            "Traducido del 'it' \n",
            "Input: 'L intelligenza artificiale sta migliorando la sicurezza nelle reti informatiche, rilevando attacchi in tempo reale.'  \n",
            "Output: La inteligencia artificial está mejorando la seguridad de las redes informáticas al detectar ataques en tiempo real.\n",
            "========================================================================================================================\n",
            "Traducido del 'it' \n",
            "Input: 'Il cloud computing ha reso possibile la creazione di applicazioni più scalabili e accessibili globalmente.'  \n",
            "Output: La computación en la nube ha permitido la creación de aplicaciones más escalables y accesibles globalmente.\n",
            "========================================================================================================================\n",
            "Traducido del 'it' \n",
            "Input: 'I sistemi di IA sono in grado di comprendere e rispondere in modo naturale alle richieste degli utenti.'  \n",
            "Output: Los sistemas de IA son capaces de comprender y responder de forma natural a las solicitudes de los usuarios.\n",
            "========================================================================================================================\n",
            "Traducido del 'it' \n",
            "Input: 'L intelligenza artificiale viene utilizzata per ottimizzare l efficienza nelle catene di distribuzione.'  \n",
            "Output: La inteligencia artificial se está utilizando para optimizar la eficiencia en las cadenas de suministro.\n",
            "========================================================================================================================\n",
            "Traducido del 'it' \n",
            "Input: 'Il cloud computing facilita l accesso alle risorse informatiche senza necessità di server locali.'  \n",
            "Output: La computación en la nube facilita el acceso a los recursos informáticos sin necesidad de servidores locales.\n",
            "========================================================================================================================\n",
            "Traducido del 'pt' \n",
            "Input: 'A inteligência artificial pode melhorar significativamente os processos de produção nas fábricas.'  \n",
            "Output: La inteligencia artificial puede mejorar significativamente los procesos de producción en las fábricas.\n",
            "========================================================================================================================\n",
            "Traducido del 'pt' \n",
            "Input: 'A computação em nuvem possibilita o acesso remoto a dados e aplicações de forma segura.'  \n",
            "Output: La computación en la nube permite el acceso remoto a datos y aplicaciones de forma segura.\n",
            "========================================================================================================================\n",
            "Traducido del 'pt' \n",
            "Input: 'Com a IA, os sistemas de recomendação em plataformas de streaming são cada vez mais precisos.'  \n",
            "Output: Con la IA, los sistemas de recomendación en las plataformas de streaming son cada vez más precisos.\n",
            "========================================================================================================================\n",
            "Traducido del 'pt' \n",
            "Input: 'A computação em nuvem permite que as empresas aumentem sua capacidade computacional sem grandes investimentos iniciais.'  \n",
            "Output: La computación en la nube permite a las empresas aumentar su capacidad computacional sin grandes inversiones iniciales.\n",
            "========================================================================================================================\n",
            "Traducido del 'pt' \n",
            "Input: 'O aprendizado de máquina pode ajudar na previsão de tendências de mercado com grande precisão.'  \n",
            "Output: El aprendizaje automático puede ayudar a predecir las tendencias del mercado con gran precisión.\n",
            "========================================================================================================================\n",
            "Traducido del 'de' \n",
            "Input: 'Künstliche Intelligenz wird zunehmend in der medizinischen Forschung eingesetzt, um neue Behandlungsmethoden zu entwickeln.'  \n",
            "Output: La inteligencia artificial se utiliza cada vez más en la investigación médica para desarrollar nuevos métodos de tratamiento.\n",
            "========================================================================================================================\n",
            "Traducido del 'de' \n",
            "Input: 'Cloud Computing ermöglicht es Unternehmen, ihre Software-Dienste effizient und kostengünstig zu verwalten.'  \n",
            "Output: La computación en la nube permite a las empresas gestionar sus servicios de software de forma eficiente y rentable.\n",
            "========================================================================================================================\n",
            "Traducido del 'de' \n",
            "Input: 'Maschinelles Lernen wird genutzt, um das Kundenerlebnis in Online-Shops zu verbessern.'  \n",
            "Output: El aprendizaje automático se utiliza para mejorar la experiencia del cliente en las tiendas online.\n",
            "========================================================================================================================\n",
            "Traducido del 'de' \n",
            "Input: 'Cloud-basierte Lösungen bieten eine höhere Verfügbarkeit und Redundanz für geschäftskritische Anwendungen.'  \n",
            "Output: Las soluciones basadas en la nube ofrecen mayor disponibilidad y redundancia para aplicaciones críticas para el negocio.\n",
            "========================================================================================================================\n",
            "Traducido del 'de' \n",
            "Input: 'Die Nutzung von KI in der Automobilindustrie fördert die Entwicklung autonomer Fahrzeuge.'  \n",
            "Output: El uso de IA en la industria automotriz promueve el desarrollo de vehículos autónomos.\n"
          ]
        }
      ]
    },
    {
      "cell_type": "code",
      "source": [],
      "metadata": {
        "id": "RN-w3yhBjybD"
      },
      "execution_count": null,
      "outputs": []
    }
  ]
}